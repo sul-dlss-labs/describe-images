{
  "cells": [
    {
      "cell_type": "code",
      "id": "U82ZoETJonJL5CRzTLybvPnm",
      "metadata": {
        "tags": [],
        "id": "U82ZoETJonJL5CRzTLybvPnm",
        "executionInfo": {
          "status": "ok",
          "timestamp": 1732288364201,
          "user_tz": 360,
          "elapsed": 328102,
          "user": {
            "displayName": "",
            "userId": ""
          }
        }
      },
      "source": [
        "# Initialize cloud storage\n",
        "from google.cloud import storage\n",
        "import csv\n",
        "import requests\n",
        "from time import sleep\n",
        "\n",
        "\n",
        "BUCKET_NAME = \"cloud-ai-platform-e215f7f7-a526-4a66-902d-eb69384ef0c4\"\n",
        "FILENAME = 'image_search/out-7123.csv'\n",
        "\n",
        "def download_image(url):\n",
        "  max_retries = 3\n",
        "  retry_count = 0\n",
        "  backoff_factor = 2  # Multiplier for increasing wait time between retries\n",
        "\n",
        "  while retry_count < max_retries:\n",
        "    try:\n",
        "      response = requests.get(url)\n",
        "      response.raise_for_status()  # Raise an error for bad status codes (e.g., 4xx, 5xx)\n",
        "\n",
        "      return response.content  # Return the image content as bytes\n",
        "    except requests.exceptions.HTTPError as err:\n",
        "      retry_count += 1\n",
        "      print(f\"Error occurred. Attempt {retry_count} of {max_retries}.\")\n",
        "\n",
        "      if retry_count == max_retries:\n",
        "          print(\"Max retries reached. Unable to complete the request due to repeated errors.\")\n",
        "          break\n",
        "\n",
        "      # Wait before retrying again (with exponential backoff)\n",
        "      sleep(backoff_factor ** retry_count)\n",
        "\n",
        "# Function to upload an image to Google Cloud Storage\n",
        "def upload_to_gcs(destination_blob_name, image_bytes):\n",
        "    # Create a new blob in the bucket and upload the image\n",
        "    blob = get_blob(destination_blob_name)\n",
        "    blob.upload_from_string(image_bytes, content_type='image/jpeg')  # Set content type as appropriate\n",
        "\n",
        "    print(f\"Image successfully uploaded to gs://{BUCKET_NAME}/{destination_blob_name}\")\n",
        "\n",
        "def get_blob(blob_name):\n",
        "  client = storage.Client()\n",
        "  bucket = client.bucket(BUCKET_NAME)\n",
        "  return bucket.blob(blob_name)\n",
        "\n",
        "\n",
        "with get_blob(FILENAME).open() as csvfile:\n",
        "  reader = csv.reader(csvfile)\n",
        "\n",
        "  next(reader) # skip headers\n",
        "  for row in reader:\n",
        "    file = row[1].removesuffix('.jp2')\n",
        "    stored_file = f'image_search/stacks/{row[0]}/{file}.jpg'\n",
        "    image_blob = get_blob(stored_file)\n",
        "    if not image_blob.exists():\n",
        "      # Step 1: Download the image\n",
        "      image_url = f'https://stacks.stanford.edu/image/iiif/{row[0]}/{file}/full/!800,800/0/default.jpg'\n",
        "      image_bytes = download_image(image_url)\n",
        "\n",
        "      # Step 2: Upload the image to GCS\n",
        "      upload_to_gcs(f'image_search/stacks/{row[0]}/{file}.jpg', image_bytes)\n",
        "\n",
        "      print(image_url)"
      ],
      "execution_count": 2,
      "outputs": []
    }
  ],
  "metadata": {
    "kernelspec": {
      "display_name": "Python 3",
      "language": "python",
      "name": "python3"
    },
    "language_info": {
      "codemirror_mode": {
        "name": "ipython",
        "version": 3
      },
      "file_extension": ".py",
      "mimetype": "text/x-python",
      "name": "python",
      "nbconvert_exporter": "python",
      "pygments_lexer": "ipython3",
      "version": "3.10.10"
    },
    "colab": {
      "provenance": [],
      "name": "band_photos_from_stacks"
    }
  },
  "nbformat": 4,
  "nbformat_minor": 5
}